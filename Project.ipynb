{
 "cells": [
  {
   "cell_type": "markdown",
   "id": "angry-chuck",
   "metadata": {},
   "source": [
    "# Restaurant Recommendations"
   ]
  },
  {
   "cell_type": "markdown",
   "id": "million-strip",
   "metadata": {},
   "source": [
    "## Ryan Chan"
   ]
  },
  {
   "cell_type": "markdown",
   "id": "anticipated-protection",
   "metadata": {},
   "source": [
    "### Notes:\n",
    "\n",
    "* This project is an exploratory work for my own learning and is not suitable for use in a production environment.\n",
    "* The dataset is too large to include in an upload of this project. You can find and download the Yelp Dataset at https://www.yelp.com/dataset. Place all dataset json files into the folder 'yelp_dataset'\n"
   ]
  },
  {
   "cell_type": "code",
   "execution_count": 2,
   "id": "assigned-element",
   "metadata": {},
   "outputs": [],
   "source": [
    "import pandas as pd\n",
    "import json\n",
    "import numpy as np\n",
    "from sklearn.linear_model import LinearRegression"
   ]
  },
  {
   "cell_type": "code",
   "execution_count": 3,
   "id": "announced-dollar",
   "metadata": {},
   "outputs": [],
   "source": [
    "df_b = pd.read_json(\"yelp_dataset/yelp_academic_dataset_business.json\", lines=True)"
   ]
  },
  {
   "cell_type": "code",
   "execution_count": 187,
   "id": "dutch-participant",
   "metadata": {},
   "outputs": [
    {
     "data": {
      "text/html": [
       "<div>\n",
       "<style scoped>\n",
       "    .dataframe tbody tr th:only-of-type {\n",
       "        vertical-align: middle;\n",
       "    }\n",
       "\n",
       "    .dataframe tbody tr th {\n",
       "        vertical-align: top;\n",
       "    }\n",
       "\n",
       "    .dataframe thead th {\n",
       "        text-align: right;\n",
       "    }\n",
       "</style>\n",
       "<table border=\"1\" class=\"dataframe\">\n",
       "  <thead>\n",
       "    <tr style=\"text-align: right;\">\n",
       "      <th></th>\n",
       "      <th>business_id</th>\n",
       "      <th>name</th>\n",
       "      <th>address</th>\n",
       "      <th>city</th>\n",
       "      <th>state</th>\n",
       "      <th>postal_code</th>\n",
       "      <th>latitude</th>\n",
       "      <th>longitude</th>\n",
       "      <th>stars</th>\n",
       "      <th>review_count</th>\n",
       "      <th>is_open</th>\n",
       "      <th>attributes</th>\n",
       "      <th>categories</th>\n",
       "      <th>hours</th>\n",
       "    </tr>\n",
       "  </thead>\n",
       "  <tbody>\n",
       "    <tr>\n",
       "      <th>0</th>\n",
       "      <td>f9NumwFMBDn751xgFiRbNA</td>\n",
       "      <td>The Range At Lake Norman</td>\n",
       "      <td>10913 Bailey Rd</td>\n",
       "      <td>Cornelius</td>\n",
       "      <td>NC</td>\n",
       "      <td>28031</td>\n",
       "      <td>35.462724</td>\n",
       "      <td>-80.852612</td>\n",
       "      <td>3.5</td>\n",
       "      <td>36</td>\n",
       "      <td>1</td>\n",
       "      <td>{'BusinessAcceptsCreditCards': 'True', 'BikePa...</td>\n",
       "      <td>Active Life, Gun/Rifle Ranges, Guns &amp; Ammo, Sh...</td>\n",
       "      <td>{'Monday': '10:0-18:0', 'Tuesday': '11:0-20:0'...</td>\n",
       "    </tr>\n",
       "    <tr>\n",
       "      <th>1</th>\n",
       "      <td>Yzvjg0SayhoZgCljUJRF9Q</td>\n",
       "      <td>Carlos Santo, NMD</td>\n",
       "      <td>8880 E Via Linda, Ste 107</td>\n",
       "      <td>Scottsdale</td>\n",
       "      <td>AZ</td>\n",
       "      <td>85258</td>\n",
       "      <td>33.569404</td>\n",
       "      <td>-111.890264</td>\n",
       "      <td>5.0</td>\n",
       "      <td>4</td>\n",
       "      <td>1</td>\n",
       "      <td>{'GoodForKids': 'True', 'ByAppointmentOnly': '...</td>\n",
       "      <td>Health &amp; Medical, Fitness &amp; Instruction, Yoga,...</td>\n",
       "      <td>None</td>\n",
       "    </tr>\n",
       "    <tr>\n",
       "      <th>2</th>\n",
       "      <td>XNoUzKckATkOD1hP6vghZg</td>\n",
       "      <td>Felinus</td>\n",
       "      <td>3554 Rue Notre-Dame O</td>\n",
       "      <td>Montreal</td>\n",
       "      <td>QC</td>\n",
       "      <td>H4C 1P4</td>\n",
       "      <td>45.479984</td>\n",
       "      <td>-73.580070</td>\n",
       "      <td>5.0</td>\n",
       "      <td>5</td>\n",
       "      <td>1</td>\n",
       "      <td>None</td>\n",
       "      <td>Pets, Pet Services, Pet Groomers</td>\n",
       "      <td>None</td>\n",
       "    </tr>\n",
       "  </tbody>\n",
       "</table>\n",
       "</div>"
      ],
      "text/plain": [
       "              business_id                      name  \\\n",
       "0  f9NumwFMBDn751xgFiRbNA  The Range At Lake Norman   \n",
       "1  Yzvjg0SayhoZgCljUJRF9Q         Carlos Santo, NMD   \n",
       "2  XNoUzKckATkOD1hP6vghZg                   Felinus   \n",
       "\n",
       "                     address        city state postal_code   latitude  \\\n",
       "0            10913 Bailey Rd   Cornelius    NC       28031  35.462724   \n",
       "1  8880 E Via Linda, Ste 107  Scottsdale    AZ       85258  33.569404   \n",
       "2      3554 Rue Notre-Dame O    Montreal    QC     H4C 1P4  45.479984   \n",
       "\n",
       "    longitude  stars  review_count  is_open  \\\n",
       "0  -80.852612    3.5            36        1   \n",
       "1 -111.890264    5.0             4        1   \n",
       "2  -73.580070    5.0             5        1   \n",
       "\n",
       "                                          attributes  \\\n",
       "0  {'BusinessAcceptsCreditCards': 'True', 'BikePa...   \n",
       "1  {'GoodForKids': 'True', 'ByAppointmentOnly': '...   \n",
       "2                                               None   \n",
       "\n",
       "                                          categories  \\\n",
       "0  Active Life, Gun/Rifle Ranges, Guns & Ammo, Sh...   \n",
       "1  Health & Medical, Fitness & Instruction, Yoga,...   \n",
       "2                   Pets, Pet Services, Pet Groomers   \n",
       "\n",
       "                                               hours  \n",
       "0  {'Monday': '10:0-18:0', 'Tuesday': '11:0-20:0'...  \n",
       "1                                               None  \n",
       "2                                               None  "
      ]
     },
     "metadata": {},
     "output_type": "display_data"
    }
   ],
   "source": [
    "display(df_b.head(3))"
   ]
  },
  {
   "cell_type": "code",
   "execution_count": 5,
   "id": "human-jewel",
   "metadata": {},
   "outputs": [],
   "source": [
    "df_u = pd.read_json(\"yelp_dataset/yelp_academic_dataset_user.json\", lines=True)"
   ]
  },
  {
   "cell_type": "code",
   "execution_count": 6,
   "id": "auburn-parks",
   "metadata": {},
   "outputs": [],
   "source": [
    "TRAINING_REVIEW_COUNT_THRESHOLD_ = 250\n",
    "df_u_abbrev = df_u[df_u[\"review_count\"]>TRAINING_REVIEW_COUNT_THRESHOLD_]"
   ]
  },
  {
   "cell_type": "code",
   "execution_count": 188,
   "id": "proud-genetics",
   "metadata": {},
   "outputs": [
    {
     "data": {
      "text/html": [
       "<div>\n",
       "<style scoped>\n",
       "    .dataframe tbody tr th:only-of-type {\n",
       "        vertical-align: middle;\n",
       "    }\n",
       "\n",
       "    .dataframe tbody tr th {\n",
       "        vertical-align: top;\n",
       "    }\n",
       "\n",
       "    .dataframe thead th {\n",
       "        text-align: right;\n",
       "    }\n",
       "</style>\n",
       "<table border=\"1\" class=\"dataframe\">\n",
       "  <thead>\n",
       "    <tr style=\"text-align: right;\">\n",
       "      <th></th>\n",
       "      <th>user_id</th>\n",
       "      <th>name</th>\n",
       "      <th>review_count</th>\n",
       "      <th>yelping_since</th>\n",
       "      <th>useful</th>\n",
       "      <th>funny</th>\n",
       "      <th>cool</th>\n",
       "      <th>elite</th>\n",
       "      <th>friends</th>\n",
       "      <th>fans</th>\n",
       "      <th>...</th>\n",
       "      <th>compliment_more</th>\n",
       "      <th>compliment_profile</th>\n",
       "      <th>compliment_cute</th>\n",
       "      <th>compliment_list</th>\n",
       "      <th>compliment_note</th>\n",
       "      <th>compliment_plain</th>\n",
       "      <th>compliment_cool</th>\n",
       "      <th>compliment_funny</th>\n",
       "      <th>compliment_writer</th>\n",
       "      <th>compliment_photos</th>\n",
       "    </tr>\n",
       "  </thead>\n",
       "  <tbody>\n",
       "    <tr>\n",
       "      <th>0</th>\n",
       "      <td>ntlvfPzc8eglqvk92iDIAw</td>\n",
       "      <td>Rafael</td>\n",
       "      <td>553</td>\n",
       "      <td>2007-07-06 03:27:11</td>\n",
       "      <td>628</td>\n",
       "      <td>225</td>\n",
       "      <td>227</td>\n",
       "      <td></td>\n",
       "      <td>oeMvJh94PiGQnx_6GlndPQ, wm1z1PaJKvHgSDRKfwhfDg...</td>\n",
       "      <td>14</td>\n",
       "      <td>...</td>\n",
       "      <td>2</td>\n",
       "      <td>1</td>\n",
       "      <td>0</td>\n",
       "      <td>1</td>\n",
       "      <td>11</td>\n",
       "      <td>15</td>\n",
       "      <td>22</td>\n",
       "      <td>22</td>\n",
       "      <td>10</td>\n",
       "      <td>0</td>\n",
       "    </tr>\n",
       "    <tr>\n",
       "      <th>1</th>\n",
       "      <td>FOBRPlBHa3WPHFB5qYDlVg</td>\n",
       "      <td>Michelle</td>\n",
       "      <td>564</td>\n",
       "      <td>2008-04-28 01:29:25</td>\n",
       "      <td>790</td>\n",
       "      <td>316</td>\n",
       "      <td>400</td>\n",
       "      <td>2008,2009,2010,2011,2012,2013</td>\n",
       "      <td>ly7EnE8leJmyqyePVYFlug, pRlR63iDytsnnniPb3AOug...</td>\n",
       "      <td>27</td>\n",
       "      <td>...</td>\n",
       "      <td>4</td>\n",
       "      <td>5</td>\n",
       "      <td>2</td>\n",
       "      <td>1</td>\n",
       "      <td>33</td>\n",
       "      <td>37</td>\n",
       "      <td>63</td>\n",
       "      <td>63</td>\n",
       "      <td>21</td>\n",
       "      <td>5</td>\n",
       "    </tr>\n",
       "    <tr>\n",
       "      <th>4</th>\n",
       "      <td>xvu8G900tezTzbbfqmTKvA</td>\n",
       "      <td>Anne</td>\n",
       "      <td>485</td>\n",
       "      <td>2008-08-09 00:30:27</td>\n",
       "      <td>1265</td>\n",
       "      <td>400</td>\n",
       "      <td>512</td>\n",
       "      <td>2009,2010,2011,2012,2014,2015,2016,2017,2018</td>\n",
       "      <td>3W3ZMSthojCUirKEqAwGNw, eTIbuu23j9tOgmIa9POyLQ...</td>\n",
       "      <td>78</td>\n",
       "      <td>...</td>\n",
       "      <td>9</td>\n",
       "      <td>2</td>\n",
       "      <td>1</td>\n",
       "      <td>1</td>\n",
       "      <td>22</td>\n",
       "      <td>28</td>\n",
       "      <td>31</td>\n",
       "      <td>31</td>\n",
       "      <td>19</td>\n",
       "      <td>31</td>\n",
       "    </tr>\n",
       "    <tr>\n",
       "      <th>7</th>\n",
       "      <td>f4_MRNHvN-yRn7EA8YWRxg</td>\n",
       "      <td>Jennifer</td>\n",
       "      <td>822</td>\n",
       "      <td>2011-01-17 00:18:23</td>\n",
       "      <td>4127</td>\n",
       "      <td>2446</td>\n",
       "      <td>2878</td>\n",
       "      <td>2011,2012,2013,2014,2015,2016,2017,2018</td>\n",
       "      <td>c-Dja5bexzEWBufNsHfRrQ, 02HJNyOzzYXvEKVApJb8GQ...</td>\n",
       "      <td>137</td>\n",
       "      <td>...</td>\n",
       "      <td>81</td>\n",
       "      <td>62</td>\n",
       "      <td>35</td>\n",
       "      <td>24</td>\n",
       "      <td>193</td>\n",
       "      <td>541</td>\n",
       "      <td>623</td>\n",
       "      <td>623</td>\n",
       "      <td>293</td>\n",
       "      <td>172</td>\n",
       "    </tr>\n",
       "    <tr>\n",
       "      <th>11</th>\n",
       "      <td>I_6wY8_RsewziNnKhGZg4g</td>\n",
       "      <td>Jeff</td>\n",
       "      <td>405</td>\n",
       "      <td>2010-08-05 18:42:29</td>\n",
       "      <td>799</td>\n",
       "      <td>244</td>\n",
       "      <td>312</td>\n",
       "      <td>2010,2011,2012,2013,2014,2015,2016,2017</td>\n",
       "      <td>OGa2q6LvuQLYFUG_RCcALw, 0uM2R-uMBemiNlrFG5j56A...</td>\n",
       "      <td>13</td>\n",
       "      <td>...</td>\n",
       "      <td>8</td>\n",
       "      <td>3</td>\n",
       "      <td>0</td>\n",
       "      <td>1</td>\n",
       "      <td>19</td>\n",
       "      <td>48</td>\n",
       "      <td>76</td>\n",
       "      <td>76</td>\n",
       "      <td>14</td>\n",
       "      <td>6</td>\n",
       "    </tr>\n",
       "  </tbody>\n",
       "</table>\n",
       "<p>5 rows × 22 columns</p>\n",
       "</div>"
      ],
      "text/plain": [
       "                   user_id      name  review_count        yelping_since  \\\n",
       "0   ntlvfPzc8eglqvk92iDIAw    Rafael           553  2007-07-06 03:27:11   \n",
       "1   FOBRPlBHa3WPHFB5qYDlVg  Michelle           564  2008-04-28 01:29:25   \n",
       "4   xvu8G900tezTzbbfqmTKvA      Anne           485  2008-08-09 00:30:27   \n",
       "7   f4_MRNHvN-yRn7EA8YWRxg  Jennifer           822  2011-01-17 00:18:23   \n",
       "11  I_6wY8_RsewziNnKhGZg4g      Jeff           405  2010-08-05 18:42:29   \n",
       "\n",
       "    useful  funny  cool                                         elite  \\\n",
       "0      628    225   227                                                 \n",
       "1      790    316   400                 2008,2009,2010,2011,2012,2013   \n",
       "4     1265    400   512  2009,2010,2011,2012,2014,2015,2016,2017,2018   \n",
       "7     4127   2446  2878       2011,2012,2013,2014,2015,2016,2017,2018   \n",
       "11     799    244   312       2010,2011,2012,2013,2014,2015,2016,2017   \n",
       "\n",
       "                                              friends  fans  ...  \\\n",
       "0   oeMvJh94PiGQnx_6GlndPQ, wm1z1PaJKvHgSDRKfwhfDg...    14  ...   \n",
       "1   ly7EnE8leJmyqyePVYFlug, pRlR63iDytsnnniPb3AOug...    27  ...   \n",
       "4   3W3ZMSthojCUirKEqAwGNw, eTIbuu23j9tOgmIa9POyLQ...    78  ...   \n",
       "7   c-Dja5bexzEWBufNsHfRrQ, 02HJNyOzzYXvEKVApJb8GQ...   137  ...   \n",
       "11  OGa2q6LvuQLYFUG_RCcALw, 0uM2R-uMBemiNlrFG5j56A...    13  ...   \n",
       "\n",
       "    compliment_more  compliment_profile  compliment_cute  compliment_list  \\\n",
       "0                 2                   1                0                1   \n",
       "1                 4                   5                2                1   \n",
       "4                 9                   2                1                1   \n",
       "7                81                  62               35               24   \n",
       "11                8                   3                0                1   \n",
       "\n",
       "    compliment_note  compliment_plain  compliment_cool  compliment_funny  \\\n",
       "0                11                15               22                22   \n",
       "1                33                37               63                63   \n",
       "4                22                28               31                31   \n",
       "7               193               541              623               623   \n",
       "11               19                48               76                76   \n",
       "\n",
       "    compliment_writer  compliment_photos  \n",
       "0                  10                  0  \n",
       "1                  21                  5  \n",
       "4                  19                 31  \n",
       "7                 293                172  \n",
       "11                 14                  6  \n",
       "\n",
       "[5 rows x 22 columns]"
      ]
     },
     "metadata": {},
     "output_type": "display_data"
    }
   ],
   "source": [
    "display(df_u_abbrev.head(5))"
   ]
  },
  {
   "cell_type": "code",
   "execution_count": 9,
   "id": "sharp-stopping",
   "metadata": {},
   "outputs": [],
   "source": [
    "df_r = pd.read_json(\"yelp_dataset/yelp_academic_dataset_review.json\", lines=True)"
   ]
  },
  {
   "cell_type": "code",
   "execution_count": 10,
   "id": "continued-point",
   "metadata": {},
   "outputs": [],
   "source": [
    "df_r = df_r.drop(labels=[\"useful\", \"funny\", \"cool\", \"text\", \"date\"], axis=1)"
   ]
  },
  {
   "cell_type": "code",
   "execution_count": 189,
   "id": "flying-crazy",
   "metadata": {},
   "outputs": [
    {
     "data": {
      "text/html": [
       "<div>\n",
       "<style scoped>\n",
       "    .dataframe tbody tr th:only-of-type {\n",
       "        vertical-align: middle;\n",
       "    }\n",
       "\n",
       "    .dataframe tbody tr th {\n",
       "        vertical-align: top;\n",
       "    }\n",
       "\n",
       "    .dataframe thead th {\n",
       "        text-align: right;\n",
       "    }\n",
       "</style>\n",
       "<table border=\"1\" class=\"dataframe\">\n",
       "  <thead>\n",
       "    <tr style=\"text-align: right;\">\n",
       "      <th></th>\n",
       "      <th>review_id</th>\n",
       "      <th>user_id</th>\n",
       "      <th>business_id</th>\n",
       "      <th>stars</th>\n",
       "    </tr>\n",
       "  </thead>\n",
       "  <tbody>\n",
       "    <tr>\n",
       "      <th>0</th>\n",
       "      <td>xQY8N_XvtGbearJ5X4QryQ</td>\n",
       "      <td>OwjRMXRC0KyPrIlcjaXeFQ</td>\n",
       "      <td>-MhfebM0QIsKt87iDN-FNw</td>\n",
       "      <td>2</td>\n",
       "    </tr>\n",
       "    <tr>\n",
       "      <th>1</th>\n",
       "      <td>UmFMZ8PyXZTY2QcwzsfQYA</td>\n",
       "      <td>nIJD_7ZXHq-FX8byPMOkMQ</td>\n",
       "      <td>lbrU8StCq3yDfr-QMnGrmQ</td>\n",
       "      <td>1</td>\n",
       "    </tr>\n",
       "    <tr>\n",
       "      <th>2</th>\n",
       "      <td>LG2ZaYiOgpr2DK_90pYjNw</td>\n",
       "      <td>V34qejxNsCbcgD8C0HVk-Q</td>\n",
       "      <td>HQl28KMwrEKHqhFrrDqVNQ</td>\n",
       "      <td>5</td>\n",
       "    </tr>\n",
       "    <tr>\n",
       "      <th>3</th>\n",
       "      <td>i6g_oA9Yf9Y31qt0wibXpw</td>\n",
       "      <td>ofKDkJKXSKZXu5xJNGiiBQ</td>\n",
       "      <td>5JxlZaqCnk1MnbgRirs40Q</td>\n",
       "      <td>1</td>\n",
       "    </tr>\n",
       "    <tr>\n",
       "      <th>4</th>\n",
       "      <td>6TdNDKywdbjoTkizeMce8A</td>\n",
       "      <td>UgMW8bLE0QMJDCkQ1Ax5Mg</td>\n",
       "      <td>IS4cv902ykd8wj1TR0N3-A</td>\n",
       "      <td>4</td>\n",
       "    </tr>\n",
       "  </tbody>\n",
       "</table>\n",
       "</div>"
      ],
      "text/plain": [
       "                review_id                 user_id             business_id  \\\n",
       "0  xQY8N_XvtGbearJ5X4QryQ  OwjRMXRC0KyPrIlcjaXeFQ  -MhfebM0QIsKt87iDN-FNw   \n",
       "1  UmFMZ8PyXZTY2QcwzsfQYA  nIJD_7ZXHq-FX8byPMOkMQ  lbrU8StCq3yDfr-QMnGrmQ   \n",
       "2  LG2ZaYiOgpr2DK_90pYjNw  V34qejxNsCbcgD8C0HVk-Q  HQl28KMwrEKHqhFrrDqVNQ   \n",
       "3  i6g_oA9Yf9Y31qt0wibXpw  ofKDkJKXSKZXu5xJNGiiBQ  5JxlZaqCnk1MnbgRirs40Q   \n",
       "4  6TdNDKywdbjoTkizeMce8A  UgMW8bLE0QMJDCkQ1Ax5Mg  IS4cv902ykd8wj1TR0N3-A   \n",
       "\n",
       "   stars  \n",
       "0      2  \n",
       "1      1  \n",
       "2      5  \n",
       "3      1  \n",
       "4      4  "
      ]
     },
     "metadata": {},
     "output_type": "display_data"
    }
   ],
   "source": [
    "display(df_r.head(5))"
   ]
  },
  {
   "cell_type": "markdown",
   "id": "wrapped-jumping",
   "metadata": {},
   "source": [
    "Create business feature vectors, place into a dictionary"
   ]
  },
  {
   "cell_type": "code",
   "execution_count": 14,
   "id": "executed-assist",
   "metadata": {},
   "outputs": [],
   "source": [
    "#df_b[df_b[\"attributes\"].map(lambda x: \"Alcohol\" in x)]\n",
    "#set(df_b[\"attributes\"].map(lambda x: x[\"RestaurantsAttire\"] if isinstance(x, dict) and \"RestaurantsAttire\" in x else False))"
   ]
  },
  {
   "cell_type": "code",
   "execution_count": 15,
   "id": "improved-agency",
   "metadata": {},
   "outputs": [],
   "source": [
    "featureAttributesBool = [\n",
    "    \"RestaurantsPriceRange2\",\n",
    "    \"RestaurantsReservations\",\n",
    "    \"BikeParking\",\n",
    "    \"BusinessAcceptsCreditCards\",\n",
    "    \"ByAppointmentOnly\",\n",
    "    \"DriveThru\",\n",
    "    \"GoodForKids\",\n",
    "    'HappyHour',\n",
    "    \"HasTV\",\n",
    "    \"OutdoorSeating\",\n",
    "    \"RestaurantsDelivery\",\n",
    "    \"RestaurantsGoodForGroups\",\n",
    "    \"RestaurantsTakeOut\",\n",
    "    \"WheelchairAccessible\"\n",
    "]\n",
    "\n",
    "featureAttributesOneHot = [\n",
    "    ['Alcohol', \"None\", \"'none'\", \"u'none'\"],\n",
    "    ['Alcohol', \"'beer_and_wine'\", \"u'beer_and_wine'\"],\n",
    "    ['Alcohol', \"full_bar\", \"u'full_bar'\"],\n",
    "    ['RestaurantsAttire', \"'None'\"],\n",
    "    ['RestaurantsAttire', \"'casual'\", \"u'casual'\"],\n",
    "    ['RestaurantsAttire', \"'dressy'\", \"u'dressy'\"],\n",
    "    ['RestaurantsAttire', \"'formal'\", \"u'formal'\"],   \n",
    "]\n",
    "\n",
    "def extractAttributes(businessAttributes):\n",
    "    features = list()\n",
    "    for attr in featureAttributesBool:\n",
    "        if isinstance(attr, str):\n",
    "            if businessAttributes is not None and attr in businessAttributes:\n",
    "                features.append(int(businessAttributes[attr] == 'True'))\n",
    "            else:\n",
    "                features.append(0)\n",
    "    \n",
    "    for attr in featureAttributesOneHot:\n",
    "        if businessAttributes is not None and attr[0] in businessAttributes:\n",
    "            found = False\n",
    "            for attrTag in attr[1:]:\n",
    "                if businessAttributes[attr[0]] == attrTag:\n",
    "                    found = True\n",
    "                    features.append(1)\n",
    "                    break\n",
    "            if not found:\n",
    "                features.append(0)\n",
    "        else:\n",
    "            features.append(0)\n",
    "    return features\n",
    "\n"
   ]
  },
  {
   "cell_type": "code",
   "execution_count": 16,
   "id": "premier-blank",
   "metadata": {},
   "outputs": [],
   "source": [
    "businessFeatureDict = dict()\n",
    "\n",
    "def addBusiness(business):\n",
    "    features = [business[\"stars\"]] + [business[\"review_count\"]] + extractAttributes(business[\"attributes\"])\n",
    "    businessFeatureDict[business[\"business_id\"]] = features"
   ]
  },
  {
   "cell_type": "code",
   "execution_count": 17,
   "id": "linear-vietnamese",
   "metadata": {},
   "outputs": [
    {
     "data": {
      "text/plain": [
       "0         None\n",
       "1         None\n",
       "2         None\n",
       "3         None\n",
       "4         None\n",
       "          ... \n",
       "209388    None\n",
       "209389    None\n",
       "209390    None\n",
       "209391    None\n",
       "209392    None\n",
       "Length: 209393, dtype: object"
      ]
     },
     "execution_count": 17,
     "metadata": {},
     "output_type": "execute_result"
    }
   ],
   "source": [
    "df_b.apply(addBusiness, axis=1)"
   ]
  },
  {
   "cell_type": "code",
   "execution_count": 19,
   "id": "lyric-brown",
   "metadata": {},
   "outputs": [],
   "source": [
    "#addBusiness(df_b.iloc[209388])\n",
    "#print(businessFeatureDict[\"SYa2j1boLF8DcGVOYfHPcA\"])"
   ]
  },
  {
   "cell_type": "markdown",
   "id": "communist-courage",
   "metadata": {},
   "source": [
    "Testing on a random business"
   ]
  },
  {
   "cell_type": "code",
   "execution_count": 20,
   "id": "weird-license",
   "metadata": {},
   "outputs": [],
   "source": [
    "a = extractAttributes(df_b[df_b[\"business_id\"]==\"SYa2j1boLF8DcGVOYfHPcA\"][\"attributes\"].values[0])"
   ]
  },
  {
   "cell_type": "code",
   "execution_count": 21,
   "id": "magnetic-increase",
   "metadata": {},
   "outputs": [
    {
     "data": {
      "text/plain": [
       "[0, 0, 1, 1, 0, 0, 1, 0, 0, 1, 0, 1, 1, 0, 1, 0, 0, 0, 1, 0, 0]"
      ]
     },
     "execution_count": 21,
     "metadata": {},
     "output_type": "execute_result"
    }
   ],
   "source": [
    "a"
   ]
  },
  {
   "cell_type": "markdown",
   "id": "attached-sheep",
   "metadata": {},
   "source": [
    "Weight Generation"
   ]
  },
  {
   "cell_type": "code",
   "execution_count": 22,
   "id": "creative-international",
   "metadata": {},
   "outputs": [],
   "source": [
    "def generateWeights(user_id):\n",
    "    user_reviews = df_r[df_r[\"user_id\"]==user_id]\n",
    "    user_review_scores = user_reviews[\"stars\"].values\n",
    "    #business_features = user_reviews.apply(lambda x: businessFeatureDict[x[\"business_id\"]], axis=1)\n",
    "    business_features = np.array(list(map(lambda x: businessFeatureDict[x], user_reviews[\"business_id\"].values)))\n",
    "    #display(business_features)\n",
    "    model = LinearRegression()\n",
    "    model.fit(business_features, user_review_scores)\n",
    "    return model.coef_"
   ]
  },
  {
   "cell_type": "code",
   "execution_count": 24,
   "id": "sealed-market",
   "metadata": {},
   "outputs": [],
   "source": [
    "weights = df_u_abbrev.apply(lambda x: generateWeights(x[\"user_id\"]), axis=1)  "
   ]
  },
  {
   "cell_type": "code",
   "execution_count": 192,
   "id": "designed-dividend",
   "metadata": {},
   "outputs": [
    {
     "data": {
      "text/plain": [
       "0     [1.0741416610495274, 0.0001243782230512169, 2....\n",
       "1     [0.36931201740440167, 0.00036807714185722526, ...\n",
       "4     [0.11302586666171928, 0.0002609166948490038, 0...\n",
       "7     [0.5066197242566907, 0.0002036361778916583, -6...\n",
       "11    [-1.9369369369368967, -0.00450450450450395, -9...\n",
       "dtype: object"
      ]
     },
     "metadata": {},
     "output_type": "display_data"
    },
    {
     "name": "stdout",
     "output_type": "stream",
     "text": [
      "Number of points: 25763\n"
     ]
    }
   ],
   "source": [
    "display(weights.head(5))\n",
    "print(\"Number of points: \" + str(len(df_u_abbrev[\"user_id\"].values)))"
   ]
  },
  {
   "cell_type": "markdown",
   "id": "responsible-emphasis",
   "metadata": {},
   "source": [
    "Format weights to be acceptable input for Milvus"
   ]
  },
  {
   "cell_type": "code",
   "execution_count": 50,
   "id": "miniature-salvation",
   "metadata": {},
   "outputs": [],
   "source": [
    "weightsnp = np.stack(weights.values)"
   ]
  },
  {
   "cell_type": "code",
   "execution_count": 52,
   "id": "charming-richmond",
   "metadata": {},
   "outputs": [
    {
     "data": {
      "text/plain": [
       "(25763, 23)"
      ]
     },
     "execution_count": 52,
     "metadata": {},
     "output_type": "execute_result"
    }
   ],
   "source": [
    "weightsnp.shape"
   ]
  },
  {
   "cell_type": "markdown",
   "id": "appreciated-contemporary",
   "metadata": {},
   "source": [
    "Locally hosted Milvus instance, partially taken from https://raw.githubusercontent.com/milvus-io/pymilvus/0.2.15/examples/example.py"
   ]
  },
  {
   "cell_type": "code",
   "execution_count": 101,
   "id": "strange-sheffield",
   "metadata": {},
   "outputs": [],
   "source": [
    "from milvus import Milvus, IndexType, MetricType, Status\n",
    "\n",
    "# Milvus server IP address and port.\n",
    "# You may need to change _HOST and _PORT accordingly.\n",
    "_HOST = '127.0.0.1'\n",
    "_PORT = '19530'  # default value\n",
    "# _PORT = '19121'  # default http value\n",
    "\n",
    "# Vector parameters\n",
    "_DIM = 23  # dimension of vector\n",
    "\n",
    "_INDEX_FILE_SIZE = 32  # max file size of stored index"
   ]
  },
  {
   "cell_type": "code",
   "execution_count": 102,
   "id": "computational-doubt",
   "metadata": {},
   "outputs": [
    {
     "name": "stdout",
     "output_type": "stream",
     "text": [
      "CollectionSchema(collection_name='recomendation_collection_', dimension=23, index_file_size=32, metric_type=<MetricType: L2>)\n"
     ]
    }
   ],
   "source": [
    "milvus = Milvus(_HOST, _PORT)\n",
    "\n",
    "# Create collection demo_collection if it dosen't exist.\n",
    "collection_name = 'recomendation_collection_'\n",
    "\n",
    "status, ok = milvus.has_collection(collection_name)\n",
    "if not ok:\n",
    "    param = {\n",
    "        'collection_name': collection_name,\n",
    "        'dimension': _DIM,\n",
    "        'index_file_size': _INDEX_FILE_SIZE,  # optional\n",
    "        'metric_type': MetricType.L2  # optional\n",
    "    }\n",
    "\n",
    "    milvus.create_collection(param)\n",
    "\n",
    "# Show collections in Milvus server\n",
    "_, collections = milvus.list_collections()\n",
    "\n",
    "# Describe demo_collection\n",
    "_, collection = milvus.get_collection_info(collection_name)\n",
    "print(collection)\n"
   ]
  },
  {
   "cell_type": "code",
   "execution_count": 104,
   "id": "broken-niagara",
   "metadata": {},
   "outputs": [],
   "source": [
    "#milvus.drop_collection(collection_name)"
   ]
  },
  {
   "cell_type": "markdown",
   "id": "emerging-doctrine",
   "metadata": {},
   "source": [
    "Retype ids into native python int types. Milvus does not seem to accept ids from numpy types, such as numpy.int64 or numpy.int32."
   ]
  },
  {
   "cell_type": "code",
   "execution_count": 103,
   "id": "equipped-documentation",
   "metadata": {},
   "outputs": [],
   "source": [
    "weightindex = weights.index.values\n",
    "weightids = [weightindex.item(i) for i in range(len(weightindex))]"
   ]
  },
  {
   "cell_type": "code",
   "execution_count": 105,
   "id": "clear-aluminum",
   "metadata": {},
   "outputs": [
    {
     "data": {
      "text/plain": [
       "Status(code=0, message='OK')"
      ]
     },
     "execution_count": 105,
     "metadata": {},
     "output_type": "execute_result"
    }
   ],
   "source": [
    "# Insert vectors into demo_collection, return status and vectors id list\n",
    "status, ids = milvus.insert(collection_name=collection_name, records=np.stack(weights.values), ids=weightids)\n",
    "if not status.OK():\n",
    "    print(\"Insert failed: {}\".format(status))\n",
    "\n",
    "# Flush collection  inserted data to disk.\n",
    "milvus.flush([collection_name])"
   ]
  },
  {
   "cell_type": "code",
   "execution_count": 193,
   "id": "quick-colleague",
   "metadata": {},
   "outputs": [
    {
     "name": "stdout",
     "output_type": "stream",
     "text": [
      "Row count: 25763\n"
     ]
    }
   ],
   "source": [
    "# Get collection row count\n",
    "status, result = milvus.count_entities(collection_name)\n",
    "print(\"Row count: \" + str(result))"
   ]
  },
  {
   "cell_type": "markdown",
   "id": "sorted-democrat",
   "metadata": {},
   "source": [
    "#### Build Index\n",
    "\n",
    "We use the recommended value of nlist: 4 × sqrt(n), where n is the number of items in a segment"
   ]
  },
  {
   "cell_type": "code",
   "execution_count": 107,
   "id": "junior-driver",
   "metadata": {},
   "outputs": [
    {
     "name": "stdout",
     "output_type": "stream",
     "text": [
      "{'partitions': [{'row_count': 25763, 'segments': [{'data_size': 2576300, 'index_name': 'IDMAP', 'name': '1613784371630425000', 'row_count': 25763}], 'tag': '_default'}], 'row_count': 25763}\n"
     ]
    }
   ],
   "source": [
    "_, info = milvus.get_collection_stats(collection_name)\n",
    "print(info)"
   ]
  },
  {
   "cell_type": "code",
   "execution_count": 109,
   "id": "prerequisite-claim",
   "metadata": {},
   "outputs": [
    {
     "data": {
      "text/plain": [
       "642.0342669982655"
      ]
     },
     "execution_count": 109,
     "metadata": {},
     "output_type": "execute_result"
    }
   ],
   "source": [
    "25763 ** (1/2) * 4"
   ]
  },
  {
   "cell_type": "code",
   "execution_count": 112,
   "id": "numerical-leonard",
   "metadata": {},
   "outputs": [
    {
     "data": {
      "text/plain": [
       "Status(code=0, message='Build index successfully!')"
      ]
     },
     "execution_count": 112,
     "metadata": {},
     "output_type": "execute_result"
    }
   ],
   "source": [
    "ivf_param = {'nlist': 642}\n",
    "milvus.create_index(collection_name, IndexType.IVF_SQ8, ivf_param)"
   ]
  },
  {
   "cell_type": "markdown",
   "id": "metric-primary",
   "metadata": {},
   "source": [
    "nprobe is chosen semi-arbitrarially"
   ]
  },
  {
   "cell_type": "code",
   "execution_count": 194,
   "id": "developed-chase",
   "metadata": {},
   "outputs": [],
   "source": [
    "search_param = {'nprobe': 16}"
   ]
  },
  {
   "cell_type": "code",
   "execution_count": 195,
   "id": "indonesian-pregnancy",
   "metadata": {},
   "outputs": [],
   "source": [
    "NUM_USERS_REC_ = 3\n",
    "NUM_REC_PER_USER_ = 3\n",
    "\n",
    "def retrieveRecs(uid, num_recs):\n",
    "    user_id = df_u_abbrev.iloc[uid][\"user_id\"]\n",
    "    toprecs = df_r[df_r[\"user_id\"] == user_id].sort_values(by=\"stars\", ascending=False)\n",
    "    return df_b[df_b[\"business_id\"].isin(toprecs.head(num_recs)[\"business_id\"].values)]\n",
    "\n",
    "def generateRecommendations(user_id):\n",
    "    user_weights = np.stack(generateWeights(user_id)).reshape(1, 23)\n",
    "    status, results = milvus.search(collection_name=collection_name, query_records=testw, top_k=NUM_USERS_REC_, params=search_param)\n",
    "    print(status)\n",
    "    rec_df = pd.DataFrame()\n",
    "    for searchResult in results[0]:\n",
    "        rec_df = rec_df.append(retrieveRecs(searchResult.id, NUM_REC_PER_USER_))\n",
    "    return rec_df"
   ]
  },
  {
   "cell_type": "markdown",
   "id": "competent-fairy",
   "metadata": {},
   "source": [
    "### Running"
   ]
  },
  {
   "cell_type": "markdown",
   "id": "weird-tenant",
   "metadata": {},
   "source": [
    "To generate a set of reccomendations for a user, run `generateRecommendations(user_id)`, where user_id is their id. This assumes that the user is present in the dataset. It will generate and output `NUM_USERS_REC_` * `NUM_REC_PER_USER_` recommended businesses."
   ]
  },
  {
   "cell_type": "markdown",
   "id": "selected-depth",
   "metadata": {},
   "source": [
    "Example with a randomly selected user:"
   ]
  },
  {
   "cell_type": "code",
   "execution_count": 196,
   "id": "behavioral-literacy",
   "metadata": {},
   "outputs": [
    {
     "name": "stdout",
     "output_type": "stream",
     "text": [
      "Status(code=0, message='Search vectors successfully!')\n"
     ]
    },
    {
     "data": {
      "text/html": [
       "<div>\n",
       "<style scoped>\n",
       "    .dataframe tbody tr th:only-of-type {\n",
       "        vertical-align: middle;\n",
       "    }\n",
       "\n",
       "    .dataframe tbody tr th {\n",
       "        vertical-align: top;\n",
       "    }\n",
       "\n",
       "    .dataframe thead th {\n",
       "        text-align: right;\n",
       "    }\n",
       "</style>\n",
       "<table border=\"1\" class=\"dataframe\">\n",
       "  <thead>\n",
       "    <tr style=\"text-align: right;\">\n",
       "      <th></th>\n",
       "      <th>business_id</th>\n",
       "      <th>name</th>\n",
       "      <th>address</th>\n",
       "      <th>city</th>\n",
       "      <th>state</th>\n",
       "      <th>postal_code</th>\n",
       "      <th>latitude</th>\n",
       "      <th>longitude</th>\n",
       "      <th>stars</th>\n",
       "      <th>review_count</th>\n",
       "      <th>is_open</th>\n",
       "      <th>attributes</th>\n",
       "      <th>categories</th>\n",
       "      <th>hours</th>\n",
       "    </tr>\n",
       "  </thead>\n",
       "  <tbody>\n",
       "    <tr>\n",
       "      <th>148713</th>\n",
       "      <td>-Miw03v5yXJWjH9MN1aglw</td>\n",
       "      <td>The Nash</td>\n",
       "      <td>925 11th Street SE</td>\n",
       "      <td>Calgary</td>\n",
       "      <td>AB</td>\n",
       "      <td>T2G 0S8</td>\n",
       "      <td>51.041415</td>\n",
       "      <td>-114.037001</td>\n",
       "      <td>4.0</td>\n",
       "      <td>122</td>\n",
       "      <td>1</td>\n",
       "      <td>{'RestaurantsDelivery': 'False', 'RestaurantsP...</td>\n",
       "      <td>Nightlife, Canadian (New), Restaurants, Bars</td>\n",
       "      <td>{'Tuesday': '11:30-22:0', 'Wednesday': '11:30-...</td>\n",
       "    </tr>\n",
       "    <tr>\n",
       "      <th>172724</th>\n",
       "      <td>bcCfoAUpHY5SVrYd4alasA</td>\n",
       "      <td>Village Ice Cream</td>\n",
       "      <td>2406 34th Avenue SW</td>\n",
       "      <td>Calgary</td>\n",
       "      <td>AB</td>\n",
       "      <td>T2T 2C8</td>\n",
       "      <td>51.023396</td>\n",
       "      <td>-114.114742</td>\n",
       "      <td>5.0</td>\n",
       "      <td>20</td>\n",
       "      <td>1</td>\n",
       "      <td>{'DogsAllowed': 'False', 'BikeParking': 'True'...</td>\n",
       "      <td>Ice Cream &amp; Frozen Yogurt, Food</td>\n",
       "      <td>{'Monday': '11:0-16:0', 'Tuesday': '11:0-23:0'...</td>\n",
       "    </tr>\n",
       "    <tr>\n",
       "      <th>205504</th>\n",
       "      <td>TSzsZRpN09mqu54HWNn1PA</td>\n",
       "      <td>Mari Bakeshop</td>\n",
       "      <td>529 Riverfront Avenue SE</td>\n",
       "      <td>Calgary</td>\n",
       "      <td>AB</td>\n",
       "      <td>T2G 1K2</td>\n",
       "      <td>51.047584</td>\n",
       "      <td>-114.050757</td>\n",
       "      <td>4.5</td>\n",
       "      <td>23</td>\n",
       "      <td>1</td>\n",
       "      <td>{'RestaurantsDelivery': 'False', 'BusinessPark...</td>\n",
       "      <td>Food, Bakeries, Desserts</td>\n",
       "      <td>{'Wednesday': '9:0-18:0', 'Thursday': '9:0-18:...</td>\n",
       "    </tr>\n",
       "    <tr>\n",
       "      <th>5257</th>\n",
       "      <td>Ul6JwluSTm12PVDIqnNaTg</td>\n",
       "      <td>Kaya</td>\n",
       "      <td>2000 Smallman St</td>\n",
       "      <td>Pittsburgh</td>\n",
       "      <td>PA</td>\n",
       "      <td>15222</td>\n",
       "      <td>40.451655</td>\n",
       "      <td>-79.984470</td>\n",
       "      <td>4.0</td>\n",
       "      <td>718</td>\n",
       "      <td>1</td>\n",
       "      <td>{'RestaurantsReservations': 'True', 'BusinessA...</td>\n",
       "      <td>Caribbean, Latin American, Nightlife, Restaura...</td>\n",
       "      <td>{'Monday': '11:30-22:0', 'Tuesday': '11:30-22:...</td>\n",
       "    </tr>\n",
       "    <tr>\n",
       "      <th>46641</th>\n",
       "      <td>TrCiLMGy_bxbeAQcuSSUeQ</td>\n",
       "      <td>Larry &amp; Carols Pizza</td>\n",
       "      <td>410 Semple St</td>\n",
       "      <td>Pittsburgh</td>\n",
       "      <td>PA</td>\n",
       "      <td>15213</td>\n",
       "      <td>40.436837</td>\n",
       "      <td>-79.954717</td>\n",
       "      <td>2.5</td>\n",
       "      <td>45</td>\n",
       "      <td>1</td>\n",
       "      <td>{'RestaurantsReservations': 'True', 'Restauran...</td>\n",
       "      <td>Italian, Sandwiches, Pizza, Restaurants</td>\n",
       "      <td>{'Monday': '11:0-0:0', 'Tuesday': '11:0-2:0', ...</td>\n",
       "    </tr>\n",
       "    <tr>\n",
       "      <th>175195</th>\n",
       "      <td>dIsUtYng6lzaaLOqHlkOMA</td>\n",
       "      <td>Jerry's Records</td>\n",
       "      <td>2136 Murray Ave</td>\n",
       "      <td>Pittsburgh</td>\n",
       "      <td>PA</td>\n",
       "      <td>15217</td>\n",
       "      <td>40.432770</td>\n",
       "      <td>-79.923444</td>\n",
       "      <td>4.5</td>\n",
       "      <td>74</td>\n",
       "      <td>1</td>\n",
       "      <td>{'RestaurantsPriceRange2': '1', 'BusinessParki...</td>\n",
       "      <td>Shopping, Books, Mags, Music &amp; Video, Vinyl Re...</td>\n",
       "      <td>{'Tuesday': '10:0-18:0', 'Wednesday': '10:0-18...</td>\n",
       "    </tr>\n",
       "    <tr>\n",
       "      <th>8892</th>\n",
       "      <td>MN6HfA76VrdU4RjiGLwSug</td>\n",
       "      <td>A Elvis Chapel</td>\n",
       "      <td>727 S 9th St</td>\n",
       "      <td>Las Vegas</td>\n",
       "      <td>NV</td>\n",
       "      <td>89101</td>\n",
       "      <td>36.159069</td>\n",
       "      <td>-115.140538</td>\n",
       "      <td>4.5</td>\n",
       "      <td>61</td>\n",
       "      <td>1</td>\n",
       "      <td>{'BusinessAcceptsCreditCards': 'True'}</td>\n",
       "      <td>Event Planning &amp; Services, Venues &amp; Event Spac...</td>\n",
       "      <td>{'Monday': '9:0-21:0', 'Tuesday': '9:0-21:0', ...</td>\n",
       "    </tr>\n",
       "    <tr>\n",
       "      <th>82036</th>\n",
       "      <td>Bkkwt8E9MHvgCHn4lUFtow</td>\n",
       "      <td>Roy's Restaurant</td>\n",
       "      <td>5350 E Marriott Dr</td>\n",
       "      <td>Phoenix</td>\n",
       "      <td>AZ</td>\n",
       "      <td>85054</td>\n",
       "      <td>33.683461</td>\n",
       "      <td>-111.965779</td>\n",
       "      <td>3.5</td>\n",
       "      <td>369</td>\n",
       "      <td>1</td>\n",
       "      <td>{'NoiseLevel': 'u'average'', 'RestaurantsPrice...</td>\n",
       "      <td>Restaurants, Seafood, Asian Fusion, Hawaiian, ...</td>\n",
       "      <td>{'Monday': '16:0-22:0', 'Tuesday': '16:0-22:0'...</td>\n",
       "    </tr>\n",
       "    <tr>\n",
       "      <th>198269</th>\n",
       "      <td>dUffgo9Lh_Vk9TLuFR5ywg</td>\n",
       "      <td>Oregano's Pizza Bistro</td>\n",
       "      <td>1008 E Camelback Rd</td>\n",
       "      <td>Phoenix</td>\n",
       "      <td>AZ</td>\n",
       "      <td>85014</td>\n",
       "      <td>33.509510</td>\n",
       "      <td>-112.060238</td>\n",
       "      <td>3.5</td>\n",
       "      <td>678</td>\n",
       "      <td>1</td>\n",
       "      <td>{'HasTV': 'True', 'RestaurantsDelivery': 'Fals...</td>\n",
       "      <td>Restaurants, Pizza, Italian, Sandwiches</td>\n",
       "      <td>{'Monday': '0:0-0:0', 'Tuesday': '11:0-22:0', ...</td>\n",
       "    </tr>\n",
       "  </tbody>\n",
       "</table>\n",
       "</div>"
      ],
      "text/plain": [
       "                   business_id                    name  \\\n",
       "148713  -Miw03v5yXJWjH9MN1aglw                The Nash   \n",
       "172724  bcCfoAUpHY5SVrYd4alasA       Village Ice Cream   \n",
       "205504  TSzsZRpN09mqu54HWNn1PA           Mari Bakeshop   \n",
       "5257    Ul6JwluSTm12PVDIqnNaTg                    Kaya   \n",
       "46641   TrCiLMGy_bxbeAQcuSSUeQ    Larry & Carols Pizza   \n",
       "175195  dIsUtYng6lzaaLOqHlkOMA         Jerry's Records   \n",
       "8892    MN6HfA76VrdU4RjiGLwSug          A Elvis Chapel   \n",
       "82036   Bkkwt8E9MHvgCHn4lUFtow        Roy's Restaurant   \n",
       "198269  dUffgo9Lh_Vk9TLuFR5ywg  Oregano's Pizza Bistro   \n",
       "\n",
       "                         address        city state postal_code   latitude  \\\n",
       "148713        925 11th Street SE     Calgary    AB     T2G 0S8  51.041415   \n",
       "172724       2406 34th Avenue SW     Calgary    AB     T2T 2C8  51.023396   \n",
       "205504  529 Riverfront Avenue SE     Calgary    AB     T2G 1K2  51.047584   \n",
       "5257            2000 Smallman St  Pittsburgh    PA       15222  40.451655   \n",
       "46641              410 Semple St  Pittsburgh    PA       15213  40.436837   \n",
       "175195           2136 Murray Ave  Pittsburgh    PA       15217  40.432770   \n",
       "8892                727 S 9th St   Las Vegas    NV       89101  36.159069   \n",
       "82036         5350 E Marriott Dr     Phoenix    AZ       85054  33.683461   \n",
       "198269       1008 E Camelback Rd     Phoenix    AZ       85014  33.509510   \n",
       "\n",
       "         longitude  stars  review_count  is_open  \\\n",
       "148713 -114.037001    4.0           122        1   \n",
       "172724 -114.114742    5.0            20        1   \n",
       "205504 -114.050757    4.5            23        1   \n",
       "5257    -79.984470    4.0           718        1   \n",
       "46641   -79.954717    2.5            45        1   \n",
       "175195  -79.923444    4.5            74        1   \n",
       "8892   -115.140538    4.5            61        1   \n",
       "82036  -111.965779    3.5           369        1   \n",
       "198269 -112.060238    3.5           678        1   \n",
       "\n",
       "                                               attributes  \\\n",
       "148713  {'RestaurantsDelivery': 'False', 'RestaurantsP...   \n",
       "172724  {'DogsAllowed': 'False', 'BikeParking': 'True'...   \n",
       "205504  {'RestaurantsDelivery': 'False', 'BusinessPark...   \n",
       "5257    {'RestaurantsReservations': 'True', 'BusinessA...   \n",
       "46641   {'RestaurantsReservations': 'True', 'Restauran...   \n",
       "175195  {'RestaurantsPriceRange2': '1', 'BusinessParki...   \n",
       "8892               {'BusinessAcceptsCreditCards': 'True'}   \n",
       "82036   {'NoiseLevel': 'u'average'', 'RestaurantsPrice...   \n",
       "198269  {'HasTV': 'True', 'RestaurantsDelivery': 'Fals...   \n",
       "\n",
       "                                               categories  \\\n",
       "148713       Nightlife, Canadian (New), Restaurants, Bars   \n",
       "172724                    Ice Cream & Frozen Yogurt, Food   \n",
       "205504                           Food, Bakeries, Desserts   \n",
       "5257    Caribbean, Latin American, Nightlife, Restaura...   \n",
       "46641             Italian, Sandwiches, Pizza, Restaurants   \n",
       "175195  Shopping, Books, Mags, Music & Video, Vinyl Re...   \n",
       "8892    Event Planning & Services, Venues & Event Spac...   \n",
       "82036   Restaurants, Seafood, Asian Fusion, Hawaiian, ...   \n",
       "198269            Restaurants, Pizza, Italian, Sandwiches   \n",
       "\n",
       "                                                    hours  \n",
       "148713  {'Tuesday': '11:30-22:0', 'Wednesday': '11:30-...  \n",
       "172724  {'Monday': '11:0-16:0', 'Tuesday': '11:0-23:0'...  \n",
       "205504  {'Wednesday': '9:0-18:0', 'Thursday': '9:0-18:...  \n",
       "5257    {'Monday': '11:30-22:0', 'Tuesday': '11:30-22:...  \n",
       "46641   {'Monday': '11:0-0:0', 'Tuesday': '11:0-2:0', ...  \n",
       "175195  {'Tuesday': '10:0-18:0', 'Wednesday': '10:0-18...  \n",
       "8892    {'Monday': '9:0-21:0', 'Tuesday': '9:0-21:0', ...  \n",
       "82036   {'Monday': '16:0-22:0', 'Tuesday': '16:0-22:0'...  \n",
       "198269  {'Monday': '0:0-0:0', 'Tuesday': '11:0-22:0', ...  "
      ]
     },
     "execution_count": 196,
     "metadata": {},
     "output_type": "execute_result"
    }
   ],
   "source": [
    "generateRecommendations(\"fL0jIsxSR2DSBeIRI8OcTA\")"
   ]
  },
  {
   "cell_type": "markdown",
   "id": "spare-university",
   "metadata": {},
   "source": []
  }
 ],
 "metadata": {
  "kernelspec": {
   "display_name": "Python 3",
   "language": "python",
   "name": "python3"
  },
  "language_info": {
   "codemirror_mode": {
    "name": "ipython",
    "version": 3
   },
   "file_extension": ".py",
   "mimetype": "text/x-python",
   "name": "python",
   "nbconvert_exporter": "python",
   "pygments_lexer": "ipython3",
   "version": "3.7.3"
  }
 },
 "nbformat": 4,
 "nbformat_minor": 5
}
